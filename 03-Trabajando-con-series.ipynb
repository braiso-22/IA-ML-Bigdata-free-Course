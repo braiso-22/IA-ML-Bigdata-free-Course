{
 "cells": [
  {
   "cell_type": "markdown",
   "id": "9dadfd5c",
   "metadata": {},
   "source": [
    "# Tutorial 3: Trabajando con series como estructuras de datos\n",
    "Como usar series con datos reales"
   ]
  },
  {
   "cell_type": "code",
   "execution_count": null,
   "id": "2ad83152",
   "metadata": {},
   "outputs": [],
   "source": [
    "import pandas"
   ]
  },
  {
   "cell_type": "code",
   "execution_count": null,
   "id": "80d1a189",
   "metadata": {},
   "outputs": [],
   "source": [
    "games = pandas.read_csv(\"Datasets/vgsalesGlobale.csv\") # Un csv de juegos populares desde hace muchos años hasta la actualidad"
   ]
  },
  {
   "cell_type": "code",
   "execution_count": null,
   "id": "bec96e14",
   "metadata": {},
   "outputs": [],
   "source": [
    "games.head() # Sirve para obtener los 5 primeros de la serie"
   ]
  },
  {
   "cell_type": "code",
   "execution_count": null,
   "id": "007fbeca",
   "metadata": {},
   "outputs": [],
   "source": [
    "games.dtypes # Indica los tipos de dato de cada columna de la tabla"
   ]
  },
  {
   "cell_type": "code",
   "execution_count": null,
   "id": "da90fccf",
   "metadata": {},
   "outputs": [],
   "source": [
    "games.Genre.describe() # Información sobre una columna en concreto"
   ]
  },
  {
   "cell_type": "code",
   "execution_count": null,
   "id": "123cdc68",
   "metadata": {},
   "outputs": [],
   "source": [
    "games.Genre.value_counts() # Especificación de las veces que aparece cada ocurrencia unica en forma de serie"
   ]
  },
  {
   "cell_type": "code",
   "execution_count": null,
   "id": "0ce6de6f",
   "metadata": {},
   "outputs": [],
   "source": [
    "# Esto nos da una serie de valores entre 0 y 1 que si multiplicamos por 100 nos da el porcentaje de aparición\n",
    "games.Genre.value_counts(normalize=True) * 100 "
   ]
  },
  {
   "cell_type": "code",
   "execution_count": null,
   "id": "fcfbe629",
   "metadata": {},
   "outputs": [],
   "source": [
    "games.Genre.value_counts().head() # Podemos hacer la misma operacion head para mostrar los 5 primeros"
   ]
  },
  {
   "cell_type": "code",
   "execution_count": null,
   "id": "1c7affbe",
   "metadata": {},
   "outputs": [],
   "source": [
    "games.Genre.unique() # Con unique obtenemos los valores clave de la serie en un array"
   ]
  },
  {
   "cell_type": "code",
   "execution_count": null,
   "id": "cfe7a7c8",
   "metadata": {},
   "outputs": [],
   "source": [
    "games.Genre.nunique() # Esto equivale a un len(games.Genre.unique())"
   ]
  },
  {
   "cell_type": "code",
   "execution_count": null,
   "id": "8276e57a",
   "metadata": {},
   "outputs": [],
   "source": [
    "pandas.crosstab(games.Genre, games.Year) # Esta función nos permite cruzar los datos en una tabla como su nombre indica"
   ]
  },
  {
   "cell_type": "code",
   "execution_count": null,
   "id": "c0766dd1",
   "metadata": {},
   "outputs": [],
   "source": [
    "games.Global_Sales.describe() # Datos percentuales de medias, maximos, conteos, etc..."
   ]
  },
  {
   "cell_type": "code",
   "execution_count": null,
   "id": "c444fea0",
   "metadata": {},
   "outputs": [],
   "source": [
    "games.Year.plot(kind=\"hist\") # Numero de ventas por año en un histograma"
   ]
  },
  {
   "cell_type": "code",
   "execution_count": null,
   "id": "17d3ff8d",
   "metadata": {},
   "outputs": [],
   "source": [
    "games.Genre.value_counts().plot(kind=\"bar\") # Numero de ventas por Genero en un gráfico de barras"
   ]
  },
  {
   "cell_type": "code",
   "execution_count": null,
   "id": "3f3626a2",
   "metadata": {},
   "outputs": [],
   "source": []
  }
 ],
 "metadata": {
  "kernelspec": {
   "display_name": "Python 3 (ipykernel)",
   "language": "python",
   "name": "python3"
  },
  "language_info": {
   "codemirror_mode": {
    "name": "ipython",
    "version": 3
   },
   "file_extension": ".py",
   "mimetype": "text/x-python",
   "name": "python",
   "nbconvert_exporter": "python",
   "pygments_lexer": "ipython3",
   "version": "3.9.12"
  }
 },
 "nbformat": 4,
 "nbformat_minor": 5
}
