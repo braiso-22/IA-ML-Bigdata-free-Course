{
 "cells": [
  {
   "cell_type": "markdown",
   "id": "f3f9fdfe",
   "metadata": {},
   "source": [
    "# Tutorial 1: ¿Que es pandas?\n",
    "\n",
    "Pandas es una biblioteca muy importante de python dentro de la tematica de Bigdata.\n",
    "\n",
    "Cuenta con estructuras de datos avanzadas para facilitar el analisis de datos como las **Series(Unidimensional)** o los **DataFrames(Bidimensional).**\n"
   ]
  },
  {
   "cell_type": "code",
   "execution_count": 2,
   "id": "9bd319db",
   "metadata": {},
   "outputs": [],
   "source": [
    "import pandas"
   ]
  },
  {
   "cell_type": "code",
   "execution_count": 3,
   "id": "e0549a64",
   "metadata": {},
   "outputs": [
    {
     "data": {
      "text/plain": [
       "'1.4.2'"
      ]
     },
     "execution_count": 3,
     "metadata": {},
     "output_type": "execute_result"
    }
   ],
   "source": [
    "pandas.__version__ # Imprime la version de pandas"
   ]
  },
  {
   "cell_type": "code",
   "execution_count": null,
   "id": "f26e961b",
   "metadata": {},
   "outputs": [],
   "source": []
  }
 ],
 "metadata": {
  "kernelspec": {
   "display_name": "Python 3 (ipykernel)",
   "language": "python",
   "name": "python3"
  },
  "language_info": {
   "codemirror_mode": {
    "name": "ipython",
    "version": 3
   },
   "file_extension": ".py",
   "mimetype": "text/x-python",
   "name": "python",
   "nbconvert_exporter": "python",
   "pygments_lexer": "ipython3",
   "version": "3.9.12"
  }
 },
 "nbformat": 4,
 "nbformat_minor": 5
}
