{
 "cells": [
  {
   "cell_type": "markdown",
   "id": "37e5555d",
   "metadata": {},
   "source": [
    "# Tutorial2: Las series como estructura de datos\n",
    "\n",
    "Ejemplos de uso de Series en pandas"
   ]
  },
  {
   "cell_type": "code",
   "execution_count": 1,
   "id": "bc2529eb",
   "metadata": {},
   "outputs": [],
   "source": [
    "import pandas"
   ]
  },
  {
   "cell_type": "code",
   "execution_count": 4,
   "id": "97a93890",
   "metadata": {},
   "outputs": [
    {
     "data": {
      "text/plain": [
       "0        1\n",
       "1     Juan\n",
       "2      3.5\n",
       "3    Pedro\n",
       "dtype: object"
      ]
     },
     "execution_count": 4,
     "metadata": {},
     "output_type": "execute_result"
    }
   ],
   "source": [
    "# Una serie se puede entender como un array simple\n",
    "\n",
    "serie = pandas.Series([1,\"Juan\", 3.5, \"Pedro\"]) # Así creamos una serie\n",
    "serie # Así podemos visualizarla"
   ]
  },
  {
   "cell_type": "code",
   "execution_count": 7,
   "id": "e2be4fe1",
   "metadata": {},
   "outputs": [
    {
     "data": {
      "text/plain": [
       "'Juan'"
      ]
     },
     "execution_count": 7,
     "metadata": {},
     "output_type": "execute_result"
    }
   ],
   "source": [
    "serie[1] # Al igual que en un array simple, podemos ver los elementos de un indice poniendo su numero entre corchetes"
   ]
  },
  {
   "cell_type": "code",
   "execution_count": 8,
   "id": "874450b0",
   "metadata": {},
   "outputs": [
    {
     "data": {
      "text/plain": [
       "array([1, 'Juan', 3.5, 'Pedro'], dtype=object)"
      ]
     },
     "execution_count": 8,
     "metadata": {},
     "output_type": "execute_result"
    }
   ],
   "source": [
    "serie.values # Con values podemos ver todo el array"
   ]
  },
  {
   "cell_type": "code",
   "execution_count": 14,
   "id": "17d4ed0f",
   "metadata": {},
   "outputs": [
    {
     "data": {
      "text/plain": [
       "aaa        1\n",
       "b       Juan\n",
       "c        3.5\n",
       "d      Pedro\n",
       "dtype: object"
      ]
     },
     "execution_count": 14,
     "metadata": {},
     "output_type": "execute_result"
    }
   ],
   "source": [
    "# Podemos cambiar los indices a string como si fuera un mapa(Diccionario es como se llama en python)\n",
    "serie2 = pandas.Series([1, \"Juan\", 3.5, \"Pedro\"], index=[\"aaa\",\"b\",\"c\",\"d\"])\n",
    "serie2"
   ]
  },
  {
   "cell_type": "code",
   "execution_count": 17,
   "id": "81f80161",
   "metadata": {},
   "outputs": [
    {
     "data": {
      "text/plain": [
       "'Juan'"
      ]
     },
     "execution_count": 17,
     "metadata": {},
     "output_type": "execute_result"
    }
   ],
   "source": [
    "serie2[\"b\"] # Se accede de la misma manera"
   ]
  },
  {
   "cell_type": "code",
   "execution_count": 19,
   "id": "2feaa938",
   "metadata": {},
   "outputs": [
    {
     "data": {
      "text/plain": [
       "Index(['aaa', 'b', 'c', 'd'], dtype='object')"
      ]
     },
     "execution_count": 19,
     "metadata": {},
     "output_type": "execute_result"
    }
   ],
   "source": [
    "serie2.index # Así consultamos los índices"
   ]
  },
  {
   "cell_type": "code",
   "execution_count": 38,
   "id": "2f3a54b9",
   "metadata": {},
   "outputs": [
    {
     "data": {
      "text/plain": [
       "Pedro       10\n",
       "Marta       50\n",
       "Lucas       80\n",
       "Brais    10000\n",
       "dtype: int64"
      ]
     },
     "execution_count": 38,
     "metadata": {},
     "output_type": "execute_result"
    }
   ],
   "source": [
    "# Podemos crear un Diccionario y convertirlo en una Serie de la siguiente forma\n",
    "score = {\"Pedro\":10, \"Marta\":50, \"Lucas\":80, \"Brais\":10000}\n",
    "\n",
    "serie_nombres = pandas.Series(score)\n",
    "serie_nombres"
   ]
  },
  {
   "cell_type": "code",
   "execution_count": 46,
   "id": "e3de47fd",
   "metadata": {},
   "outputs": [
    {
     "data": {
      "text/plain": [
       "Lucas     80\n",
       "Brais    420\n",
       "dtype: object"
      ]
     },
     "execution_count": 46,
     "metadata": {},
     "output_type": "execute_result"
    }
   ],
   "source": [
    "# Podemos hacer consultas simples desde los propios corchetes así:\n",
    "\n",
    "serie_nombres[serie_nombres>60]"
   ]
  },
  {
   "cell_type": "code",
   "execution_count": 47,
   "id": "34cf04cd",
   "metadata": {},
   "outputs": [
    {
     "data": {
      "text/plain": [
       "Pedro      0\n",
       "Marta      3\n",
       "Lucas     80\n",
       "Brais    420\n",
       "dtype: object"
      ]
     },
     "execution_count": 47,
     "metadata": {},
     "output_type": "execute_result"
    }
   ],
   "source": [
    "# Podemos cambiar los valores de una serie igual que en un array\n",
    "serie_nombres[0] = 0\n",
    "serie_nombres[\"Marta\"] = 3\n",
    "serie_nombres[serie_nombres>80] = 420\n",
    "\n",
    "serie_nombres"
   ]
  },
  {
   "cell_type": "code",
   "execution_count": 48,
   "id": "94191234",
   "metadata": {},
   "outputs": [
    {
     "data": {
      "text/plain": [
       "True"
      ]
     },
     "execution_count": 48,
     "metadata": {},
     "output_type": "execute_result"
    }
   ],
   "source": [
    "# Podemos comprobar si un id está contenido en el array/diccionario/serie\n",
    "\"Brais\" in serie_nombres"
   ]
  },
  {
   "cell_type": "code",
   "execution_count": 49,
   "id": "b793b33c",
   "metadata": {},
   "outputs": [
    {
     "data": {
      "text/plain": [
       "False"
      ]
     },
     "execution_count": 49,
     "metadata": {},
     "output_type": "execute_result"
    }
   ],
   "source": [
    "\"Rulas\" in serie_nombres"
   ]
  },
  {
   "cell_type": "code",
   "execution_count": 51,
   "id": "721cdd99",
   "metadata": {},
   "outputs": [
    {
     "data": {
      "text/plain": [
       "Pedro         0\n",
       "Marta         9\n",
       "Lucas      6400\n",
       "Brais    176400\n",
       "dtype: object"
      ]
     },
     "execution_count": 51,
     "metadata": {},
     "output_type": "execute_result"
    }
   ],
   "source": [
    "# Se puede operar sobre todos los elementos como si se tratase de una variable numerica\n",
    "serie_nombres/10"
   ]
  },
  {
   "cell_type": "code",
   "execution_count": 57,
   "id": "13390de3",
   "metadata": {
    "scrolled": true
   },
   "outputs": [
    {
     "data": {
      "text/plain": [
       "Pedro    False\n",
       "Marta    False\n",
       "Lucas    False\n",
       "Brais    False\n",
       "Rulas     True\n",
       "dtype: bool"
      ]
     },
     "execution_count": 57,
     "metadata": {},
     "output_type": "execute_result"
    }
   ],
   "source": [
    "# Se puede comprobar si un elemento es null con .isnull()\n",
    "serie_nombres[\"Rulas\"] = None\n",
    "serie_nombres.isnull()"
   ]
  }
 ],
 "metadata": {
  "kernelspec": {
   "display_name": "Python 3 (ipykernel)",
   "language": "python",
   "name": "python3"
  },
  "language_info": {
   "codemirror_mode": {
    "name": "ipython",
    "version": 3
   },
   "file_extension": ".py",
   "mimetype": "text/x-python",
   "name": "python",
   "nbconvert_exporter": "python",
   "pygments_lexer": "ipython3",
   "version": "3.9.12"
  }
 },
 "nbformat": 4,
 "nbformat_minor": 5
}
