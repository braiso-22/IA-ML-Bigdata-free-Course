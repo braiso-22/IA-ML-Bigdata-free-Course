{
 "cells": [
  {
   "cell_type": "markdown",
   "id": "aa23a082",
   "metadata": {},
   "source": [
    "# Atajos de Jupyter\n",
    "\n",
    "* Shift + Enter -> Ejecutar casilla y crear una nueva\n",
    "* Cruceta -> Moverse entre casillas\n",
    "* Z -> Crea una nueva casilla (Máximo 2 vacías)\n",
    "* X -> Elimina la casilla seleccionada\n",
    "* A -> Crea una casilla arriba\n",
    "* Shift + Tab -> Ayuda sobre función de python"
   ]
  }
 ],
 "metadata": {
  "kernelspec": {
   "display_name": "Python 3 (ipykernel)",
   "language": "python",
   "name": "python3"
  },
  "language_info": {
   "codemirror_mode": {
    "name": "ipython",
    "version": 3
   },
   "file_extension": ".py",
   "mimetype": "text/x-python",
   "name": "python",
   "nbconvert_exporter": "python",
   "pygments_lexer": "ipython3",
   "version": "3.9.12"
  }
 },
 "nbformat": 4,
 "nbformat_minor": 5
}
