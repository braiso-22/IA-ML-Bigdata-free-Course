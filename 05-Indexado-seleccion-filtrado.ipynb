{
 "cells": [
  {
   "cell_type": "markdown",
   "id": "dcf695e4",
   "metadata": {},
   "source": [
    "# Tutorial 5: Indexado-Selección-Filtrado en Pandas\n",
    "Aquí veremos como hacer estas operaciones tanto en series como dataframes"
   ]
  },
  {
   "cell_type": "code",
   "execution_count": 1,
   "id": "92d741d7",
   "metadata": {},
   "outputs": [],
   "source": [
    "import pandas\n",
    "import numpy"
   ]
  },
  {
   "cell_type": "code",
   "execution_count": 2,
   "id": "ec646c77",
   "metadata": {},
   "outputs": [],
   "source": [
    "serie = pandas.Series(numpy.arange(5),\n",
    "                     index=[\"a\",\"b\",\"c\",\"d\",\"e\"]\n",
    "                     )"
   ]
  },
  {
   "cell_type": "code",
   "execution_count": 10,
   "id": "c317b090",
   "metadata": {},
   "outputs": [
    {
     "data": {
      "text/plain": [
       "a    0\n",
       "b    1\n",
       "c    2\n",
       "dtype: int32"
      ]
     },
     "execution_count": 10,
     "metadata": {},
     "output_type": "execute_result"
    }
   ],
   "source": [
    "serie[\"a\":\"c\"] # rango también vale[0:3]"
   ]
  },
  {
   "cell_type": "code",
   "execution_count": 13,
   "id": "7e5f7bc6",
   "metadata": {},
   "outputs": [
    {
     "data": {
      "text/plain": [
       "d    3\n",
       "e    4\n",
       "dtype: int32"
      ]
     },
     "execution_count": 13,
     "metadata": {},
     "output_type": "execute_result"
    }
   ],
   "source": [
    "serie[serie>2] "
   ]
  },
  {
   "cell_type": "markdown",
   "id": "558333b4",
   "metadata": {},
   "source": [
    "## Indexado en DataFrames"
   ]
  },
  {
   "cell_type": "code",
   "execution_count": 14,
   "id": "17fcd4ac",
   "metadata": {},
   "outputs": [
    {
     "data": {
      "text/html": [
       "<div>\n",
       "<style scoped>\n",
       "    .dataframe tbody tr th:only-of-type {\n",
       "        vertical-align: middle;\n",
       "    }\n",
       "\n",
       "    .dataframe tbody tr th {\n",
       "        vertical-align: top;\n",
       "    }\n",
       "\n",
       "    .dataframe thead th {\n",
       "        text-align: right;\n",
       "    }\n",
       "</style>\n",
       "<table border=\"1\" class=\"dataframe\">\n",
       "  <thead>\n",
       "    <tr style=\"text-align: right;\">\n",
       "      <th></th>\n",
       "      <th>uno</th>\n",
       "      <th>dos</th>\n",
       "      <th>tres</th>\n",
       "      <th>cuatro</th>\n",
       "    </tr>\n",
       "  </thead>\n",
       "  <tbody>\n",
       "    <tr>\n",
       "      <th>Londres</th>\n",
       "      <td>0</td>\n",
       "      <td>1</td>\n",
       "      <td>2</td>\n",
       "      <td>3</td>\n",
       "    </tr>\n",
       "    <tr>\n",
       "      <th>Paris</th>\n",
       "      <td>4</td>\n",
       "      <td>5</td>\n",
       "      <td>6</td>\n",
       "      <td>7</td>\n",
       "    </tr>\n",
       "    <tr>\n",
       "      <th>Berlin</th>\n",
       "      <td>8</td>\n",
       "      <td>9</td>\n",
       "      <td>10</td>\n",
       "      <td>11</td>\n",
       "    </tr>\n",
       "    <tr>\n",
       "      <th>Madrid</th>\n",
       "      <td>12</td>\n",
       "      <td>13</td>\n",
       "      <td>14</td>\n",
       "      <td>15</td>\n",
       "    </tr>\n",
       "  </tbody>\n",
       "</table>\n",
       "</div>"
      ],
      "text/plain": [
       "         uno  dos  tres  cuatro\n",
       "Londres    0    1     2       3\n",
       "Paris      4    5     6       7\n",
       "Berlin     8    9    10      11\n",
       "Madrid    12   13    14      15"
      ]
     },
     "execution_count": 14,
     "metadata": {},
     "output_type": "execute_result"
    }
   ],
   "source": [
    "dataframe = pandas.DataFrame(\n",
    "    numpy.arange(16).reshape(4,4),\n",
    "    index=[\"Londres\",\"Paris\",\"Berlin\",\"Madrid\"],\n",
    "    columns=[\"uno\",\"dos\",\"tres\",\"cuatro\"]\n",
    ")\n",
    "dataframe"
   ]
  },
  {
   "cell_type": "code",
   "execution_count": 31,
   "id": "6a624adf",
   "metadata": {},
   "outputs": [
    {
     "data": {
      "text/plain": [
       "Londres    1\n",
       "Paris      5\n",
       "Berlin     3\n",
       "Madrid     3\n",
       "Name: dos, dtype: int32"
      ]
     },
     "execution_count": 31,
     "metadata": {},
     "output_type": "execute_result"
    }
   ],
   "source": [
    "dataframe[\"dos\"] # Por columna"
   ]
  },
  {
   "cell_type": "code",
   "execution_count": 22,
   "id": "db25c827",
   "metadata": {},
   "outputs": [
    {
     "data": {
      "text/html": [
       "<div>\n",
       "<style scoped>\n",
       "    .dataframe tbody tr th:only-of-type {\n",
       "        vertical-align: middle;\n",
       "    }\n",
       "\n",
       "    .dataframe tbody tr th {\n",
       "        vertical-align: top;\n",
       "    }\n",
       "\n",
       "    .dataframe thead th {\n",
       "        text-align: right;\n",
       "    }\n",
       "</style>\n",
       "<table border=\"1\" class=\"dataframe\">\n",
       "  <thead>\n",
       "    <tr style=\"text-align: right;\">\n",
       "      <th></th>\n",
       "      <th>uno</th>\n",
       "      <th>dos</th>\n",
       "      <th>tres</th>\n",
       "      <th>cuatro</th>\n",
       "    </tr>\n",
       "  </thead>\n",
       "  <tbody>\n",
       "    <tr>\n",
       "      <th>Londres</th>\n",
       "      <td>0</td>\n",
       "      <td>1</td>\n",
       "      <td>2</td>\n",
       "      <td>3</td>\n",
       "    </tr>\n",
       "    <tr>\n",
       "      <th>Paris</th>\n",
       "      <td>4</td>\n",
       "      <td>5</td>\n",
       "      <td>6</td>\n",
       "      <td>7</td>\n",
       "    </tr>\n",
       "    <tr>\n",
       "      <th>Berlin</th>\n",
       "      <td>8</td>\n",
       "      <td>9</td>\n",
       "      <td>10</td>\n",
       "      <td>11</td>\n",
       "    </tr>\n",
       "  </tbody>\n",
       "</table>\n",
       "</div>"
      ],
      "text/plain": [
       "         uno  dos  tres  cuatro\n",
       "Londres    0    1     2       3\n",
       "Paris      4    5     6       7\n",
       "Berlin     8    9    10      11"
      ]
     },
     "execution_count": 22,
     "metadata": {},
     "output_type": "execute_result"
    }
   ],
   "source": [
    "dataframe[:3] # Todas las columnas y todas las filas menos la última"
   ]
  },
  {
   "cell_type": "code",
   "execution_count": 23,
   "id": "29c68185",
   "metadata": {},
   "outputs": [
    {
     "data": {
      "text/html": [
       "<div>\n",
       "<style scoped>\n",
       "    .dataframe tbody tr th:only-of-type {\n",
       "        vertical-align: middle;\n",
       "    }\n",
       "\n",
       "    .dataframe tbody tr th {\n",
       "        vertical-align: top;\n",
       "    }\n",
       "\n",
       "    .dataframe thead th {\n",
       "        text-align: right;\n",
       "    }\n",
       "</style>\n",
       "<table border=\"1\" class=\"dataframe\">\n",
       "  <thead>\n",
       "    <tr style=\"text-align: right;\">\n",
       "      <th></th>\n",
       "      <th>uno</th>\n",
       "      <th>dos</th>\n",
       "      <th>tres</th>\n",
       "      <th>cuatro</th>\n",
       "    </tr>\n",
       "  </thead>\n",
       "  <tbody>\n",
       "    <tr>\n",
       "      <th>Paris</th>\n",
       "      <td>4</td>\n",
       "      <td>5</td>\n",
       "      <td>6</td>\n",
       "      <td>7</td>\n",
       "    </tr>\n",
       "    <tr>\n",
       "      <th>Berlin</th>\n",
       "      <td>8</td>\n",
       "      <td>9</td>\n",
       "      <td>10</td>\n",
       "      <td>11</td>\n",
       "    </tr>\n",
       "    <tr>\n",
       "      <th>Madrid</th>\n",
       "      <td>12</td>\n",
       "      <td>13</td>\n",
       "      <td>14</td>\n",
       "      <td>15</td>\n",
       "    </tr>\n",
       "  </tbody>\n",
       "</table>\n",
       "</div>"
      ],
      "text/plain": [
       "        uno  dos  tres  cuatro\n",
       "Paris     4    5     6       7\n",
       "Berlin    8    9    10      11\n",
       "Madrid   12   13    14      15"
      ]
     },
     "execution_count": 23,
     "metadata": {},
     "output_type": "execute_result"
    }
   ],
   "source": [
    "dataframe[dataframe[\"cuatro\"]>5] # Las filas que tengan el valor de cuatro mayor que 5\n",
    "\n",
    "# Equivalente a Select * from dataset where cuatro > 5"
   ]
  },
  {
   "cell_type": "code",
   "execution_count": 26,
   "id": "bf3b039d",
   "metadata": {},
   "outputs": [
    {
     "data": {
      "text/html": [
       "<div>\n",
       "<style scoped>\n",
       "    .dataframe tbody tr th:only-of-type {\n",
       "        vertical-align: middle;\n",
       "    }\n",
       "\n",
       "    .dataframe tbody tr th {\n",
       "        vertical-align: top;\n",
       "    }\n",
       "\n",
       "    .dataframe thead th {\n",
       "        text-align: right;\n",
       "    }\n",
       "</style>\n",
       "<table border=\"1\" class=\"dataframe\">\n",
       "  <thead>\n",
       "    <tr style=\"text-align: right;\">\n",
       "      <th></th>\n",
       "      <th>uno</th>\n",
       "      <th>dos</th>\n",
       "      <th>tres</th>\n",
       "      <th>cuatro</th>\n",
       "    </tr>\n",
       "  </thead>\n",
       "  <tbody>\n",
       "    <tr>\n",
       "      <th>Londres</th>\n",
       "      <td>0</td>\n",
       "      <td>1</td>\n",
       "      <td>2</td>\n",
       "      <td>3</td>\n",
       "    </tr>\n",
       "    <tr>\n",
       "      <th>Paris</th>\n",
       "      <td>4</td>\n",
       "      <td>5</td>\n",
       "      <td>3</td>\n",
       "      <td>3</td>\n",
       "    </tr>\n",
       "    <tr>\n",
       "      <th>Berlin</th>\n",
       "      <td>3</td>\n",
       "      <td>3</td>\n",
       "      <td>3</td>\n",
       "      <td>3</td>\n",
       "    </tr>\n",
       "    <tr>\n",
       "      <th>Madrid</th>\n",
       "      <td>3</td>\n",
       "      <td>3</td>\n",
       "      <td>3</td>\n",
       "      <td>3</td>\n",
       "    </tr>\n",
       "  </tbody>\n",
       "</table>\n",
       "</div>"
      ],
      "text/plain": [
       "         uno  dos  tres  cuatro\n",
       "Londres    0    1     2       3\n",
       "Paris      4    5     3       3\n",
       "Berlin     3    3     3       3\n",
       "Madrid     3    3     3       3"
      ]
     },
     "execution_count": 26,
     "metadata": {},
     "output_type": "execute_result"
    }
   ],
   "source": [
    "dataframe[dataframe>5] = 3 # Cambiar el valor según la condición\n",
    "dataframe\n",
    "\n",
    "# Parecido a update dataset set val = 3 where val > 5  "
   ]
  },
  {
   "cell_type": "markdown",
   "id": "e41806e4",
   "metadata": {},
   "source": [
    "## Select with iloc and loc\n",
    "\n",
    "* Iloc permite hacer una selección por index numérico\n",
    "* loc permite hacer selección por index string"
   ]
  },
  {
   "cell_type": "code",
   "execution_count": 29,
   "id": "b4d8729f",
   "metadata": {},
   "outputs": [
    {
     "data": {
      "text/plain": [
       "uno       4\n",
       "dos       5\n",
       "tres      3\n",
       "cuatro    3\n",
       "Name: Paris, dtype: int32"
      ]
     },
     "execution_count": 29,
     "metadata": {},
     "output_type": "execute_result"
    }
   ],
   "source": [
    "dataframe.iloc[1]"
   ]
  },
  {
   "cell_type": "code",
   "execution_count": 41,
   "id": "8687f4c1",
   "metadata": {},
   "outputs": [
    {
     "data": {
      "text/plain": [
       "dos       5\n",
       "tres      3\n",
       "cuatro    3\n",
       "Name: Paris, dtype: int32"
      ]
     },
     "execution_count": 41,
     "metadata": {},
     "output_type": "execute_result"
    }
   ],
   "source": [
    "dataframe.iloc[1,[1,2,3]] # Selecciona todos los valores menos el primero de la segunda fila"
   ]
  },
  {
   "cell_type": "code",
   "execution_count": 35,
   "id": "309429c3",
   "metadata": {},
   "outputs": [
    {
     "data": {
      "text/html": [
       "<div>\n",
       "<style scoped>\n",
       "    .dataframe tbody tr th:only-of-type {\n",
       "        vertical-align: middle;\n",
       "    }\n",
       "\n",
       "    .dataframe tbody tr th {\n",
       "        vertical-align: top;\n",
       "    }\n",
       "\n",
       "    .dataframe thead th {\n",
       "        text-align: right;\n",
       "    }\n",
       "</style>\n",
       "<table border=\"1\" class=\"dataframe\">\n",
       "  <thead>\n",
       "    <tr style=\"text-align: right;\">\n",
       "      <th></th>\n",
       "      <th>dos</th>\n",
       "      <th>tres</th>\n",
       "      <th>cuatro</th>\n",
       "    </tr>\n",
       "  </thead>\n",
       "  <tbody>\n",
       "    <tr>\n",
       "      <th>Paris</th>\n",
       "      <td>5</td>\n",
       "      <td>3</td>\n",
       "      <td>3</td>\n",
       "    </tr>\n",
       "    <tr>\n",
       "      <th>Madrid</th>\n",
       "      <td>3</td>\n",
       "      <td>3</td>\n",
       "      <td>3</td>\n",
       "    </tr>\n",
       "  </tbody>\n",
       "</table>\n",
       "</div>"
      ],
      "text/plain": [
       "        dos  tres  cuatro\n",
       "Paris     5     3       3\n",
       "Madrid    3     3       3"
      ]
     },
     "execution_count": 35,
     "metadata": {},
     "output_type": "execute_result"
    }
   ],
   "source": [
    "dataframe.iloc[[1,3],[1,2,3]] # Lo mismo pero para varias filas"
   ]
  },
  {
   "cell_type": "code",
   "execution_count": 42,
   "id": "06a1dc8a",
   "metadata": {},
   "outputs": [
    {
     "data": {
      "text/plain": [
       "Londres    2\n",
       "Paris      3\n",
       "Name: tres, dtype: int32"
      ]
     },
     "execution_count": 42,
     "metadata": {},
     "output_type": "execute_result"
    }
   ],
   "source": [
    "dataframe.loc[:\"Paris\",\"tres\"]"
   ]
  },
  {
   "cell_type": "code",
   "execution_count": null,
   "id": "fedbc82e",
   "metadata": {},
   "outputs": [],
   "source": [
    "ser"
   ]
  }
 ],
 "metadata": {
  "kernelspec": {
   "display_name": "Python 3 (ipykernel)",
   "language": "python",
   "name": "python3"
  },
  "language_info": {
   "codemirror_mode": {
    "name": "ipython",
    "version": 3
   },
   "file_extension": ".py",
   "mimetype": "text/x-python",
   "name": "python",
   "nbconvert_exporter": "python",
   "pygments_lexer": "ipython3",
   "version": "3.9.12"
  }
 },
 "nbformat": 4,
 "nbformat_minor": 5
}
