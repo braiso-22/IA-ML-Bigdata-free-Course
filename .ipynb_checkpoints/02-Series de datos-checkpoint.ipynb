{
 "cells": [
  {
   "cell_type": "markdown",
   "id": "4fac882e",
   "metadata": {},
   "source": [
    "# Tutorial2: Las series como estructura de datos\n",
    "\n",
    "Ejemplos de uso de Series en pandas"
   ]
  },
  {
   "cell_type": "code",
   "execution_count": 1,
   "id": "e2c96b28",
   "metadata": {},
   "outputs": [],
   "source": [
    "import pandas"
   ]
  },
  {
   "cell_type": "code",
   "execution_count": 4,
   "id": "3fa931ca",
   "metadata": {},
   "outputs": [
    {
     "data": {
      "text/plain": [
       "0        1\n",
       "1     Juan\n",
       "2      3.5\n",
       "3    Pedro\n",
       "dtype: object"
      ]
     },
     "execution_count": 4,
     "metadata": {},
     "output_type": "execute_result"
    }
   ],
   "source": [
    "# Una serie se puede entender como un array simple\n",
    "\n",
    "serie = pandas.Series([1,\"Juan\", 3.5, \"Pedro\"]) # Así creamos una serie\n",
    "serie # Así podemos visualizarla"
   ]
  },
  {
   "cell_type": "code",
   "execution_count": 7,
   "id": "d1d45432",
   "metadata": {},
   "outputs": [
    {
     "data": {
      "text/plain": [
       "'Juan'"
      ]
     },
     "execution_count": 7,
     "metadata": {},
     "output_type": "execute_result"
    }
   ],
   "source": [
    "serie[1] # Al igual que en un array simple, podemos ver los elementos de un indice poniendo su numero entre corchetes"
   ]
  },
  {
   "cell_type": "code",
   "execution_count": 8,
   "id": "4f7dfafb",
   "metadata": {},
   "outputs": [
    {
     "data": {
      "text/plain": [
       "array([1, 'Juan', 3.5, 'Pedro'], dtype=object)"
      ]
     },
     "execution_count": 8,
     "metadata": {},
     "output_type": "execute_result"
    }
   ],
   "source": [
    "serie.values # Con values podemos ver todo el array"
   ]
  },
  {
   "cell_type": "code",
   "execution_count": 14,
   "id": "b7d8ab65",
   "metadata": {},
   "outputs": [
    {
     "data": {
      "text/plain": [
       "aaa        1\n",
       "b       Juan\n",
       "c        3.5\n",
       "d      Pedro\n",
       "dtype: object"
      ]
     },
     "execution_count": 14,
     "metadata": {},
     "output_type": "execute_result"
    }
   ],
   "source": [
    "# Podemos cambiar los indices a string como si fuera un mapa\n",
    "serie2 = pandas.Series([1, \"Juan\", 3.5, \"Pedro\"], index=[\"aaa\",\"b\",\"c\",\"d\"])\n",
    "serie2"
   ]
  },
  {
   "cell_type": "code",
   "execution_count": 16,
   "id": "6221732d",
   "metadata": {},
   "outputs": [
    {
     "data": {
      "text/plain": [
       "'Juan'"
      ]
     },
     "execution_count": 16,
     "metadata": {},
     "output_type": "execute_result"
    }
   ],
   "source": [
    "serie2[\"b\"] # Se accede de la misma manera"
   ]
  },
  {
   "cell_type": "code",
   "execution_count": null,
   "id": "7e17a633",
   "metadata": {},
   "outputs": [],
   "source": []
  },
  {
   "cell_type": "code",
   "execution_count": null,
   "id": "61b02767",
   "metadata": {},
   "outputs": [],
   "source": []
  }
 ],
 "metadata": {
  "kernelspec": {
   "display_name": "Python 3 (ipykernel)",
   "language": "python",
   "name": "python3"
  },
  "language_info": {
   "codemirror_mode": {
    "name": "ipython",
    "version": 3
   },
   "file_extension": ".py",
   "mimetype": "text/x-python",
   "name": "python",
   "nbconvert_exporter": "python",
   "pygments_lexer": "ipython3",
   "version": "3.9.12"
  }
 },
 "nbformat": 4,
 "nbformat_minor": 5
}
